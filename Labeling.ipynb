{
 "cells": [
  {
   "cell_type": "markdown",
   "id": "dd0b1993",
   "metadata": {},
   "source": [
    "# Annotation of data using Huggingface API"
   ]
  },
  {
   "cell_type": "code",
   "execution_count": 6,
   "id": "6cd91054-fe89-47ca-b776-7360f85189c1",
   "metadata": {},
   "outputs": [],
   "source": [
    "import requests\n",
    "import pandas as pd\n",
    "from datasets import load_dataset\n",
    "import pandas as pd\n",
    "import nltk\n",
    "from nltk.corpus import stopwords\n",
    "from nltk.stem import PorterStemmer, WordNetLemmatizer\n",
    "import warnings\n",
    "warnings.filterwarnings('ignore')\n",
    "import re"
   ]
  },
  {
   "cell_type": "code",
   "execution_count": 7,
   "id": "00e47efd-c95f-4695-9674-cf508dbe576f",
   "metadata": {},
   "outputs": [],
   "source": [
    "\n",
    "# Replace with your Hugging Face API key\n",
    "# API_KEY = ''\n",
    "# API_URL = ''"
   ]
  },
  {
   "cell_type": "code",
   "execution_count": 9,
   "id": "74291675-48f1-4278-84f9-dcca23d93285",
   "metadata": {},
   "outputs": [
    {
     "name": "stderr",
     "output_type": "stream",
     "text": [
      "[nltk_data] Downloading package vader_lexicon to\n",
      "[nltk_data]     C:\\Users\\angel\\AppData\\Roaming\\nltk_data...\n",
      "[nltk_data]   Package vader_lexicon is already up-to-date!\n"
     ]
    },
    {
     "data": {
      "text/plain": [
       "True"
      ]
     },
     "execution_count": 9,
     "metadata": {},
     "output_type": "execute_result"
    }
   ],
   "source": [
    "import nltk\n",
    "nltk.download('vader_lexicon')"
   ]
  },
  {
   "cell_type": "code",
   "execution_count": 10,
   "id": "40e3b1b6-1304-4e7a-bf1f-6027e6805b3f",
   "metadata": {},
   "outputs": [
    {
     "name": "stderr",
     "output_type": "stream",
     "text": [
      "[nltk_data] Downloading package vader_lexicon to\n",
      "[nltk_data]     C:\\Users\\angel\\AppData\\Roaming\\nltk_data...\n",
      "[nltk_data]   Package vader_lexicon is already up-to-date!\n"
     ]
    },
    {
     "data": {
      "application/vnd.jupyter.widget-view+json": {
       "model_id": "b8c389b6ecd14b408b0c1cd3e59e0691",
       "version_major": 2,
       "version_minor": 0
      },
      "text/plain": [
       "Generating train split: 0 examples [00:00, ? examples/s]"
      ]
     },
     "metadata": {},
     "output_type": "display_data"
    },
    {
     "data": {
      "application/vnd.jupyter.widget-view+json": {
       "model_id": "55c61c6ea6f3473691a835cb29cb3964",
       "version_major": 2,
       "version_minor": 0
      },
      "text/plain": [
       "Map:   0%|          | 0/708 [00:00<?, ? examples/s]"
      ]
     },
     "metadata": {},
     "output_type": "display_data"
    }
   ],
   "source": [
    "import pandas as pd\n",
    "import nltk\n",
    "from nltk.sentiment import SentimentIntensityAnalyzer\n",
    "from datasets import load_dataset\n",
    "\n",
    "# Download VADER lexicon\n",
    "nltk.download('vader_lexicon')\n",
    "\n",
    "# Initialize SentimentIntensityAnalyzer\n",
    "sia = SentimentIntensityAnalyzer()\n",
    "\n",
    "# Function to get sentiment label from NLTK SentimentIntensityAnalyzer\n",
    "def get_sentiment(text):\n",
    "    score = sia.polarity_scores(text)\n",
    "    # Determine sentiment label\n",
    "    if score['compound'] >= 0.05:\n",
    "        return 'positive'\n",
    "    elif score['compound'] <= -0.05:\n",
    "        return 'negative'\n",
    "    else:\n",
    "        return 'neutral'\n",
    "\n",
    "# Load your dataset\n",
    "dataset = load_dataset('csv', data_files={'train': r\"C:\\Users\\angel\\OneDrive\\Desktop\\Git Hub\\reviewstest.csv\"})\n",
    "\n",
    "# Define your annotation function\n",
    "def annotate_review(row):\n",
    "    review_text = row['Review']\n",
    "    sentiment = get_sentiment(review_text)\n",
    "    return {'label': sentiment}\n",
    "\n",
    "# Apply annotation to dataset\n",
    "def add_annotations(dataset):\n",
    "    # Apply the annotation function to each review\n",
    "    dataset = dataset.map(lambda x: annotate_review(x), batched=False)\n",
    "    return dataset\n",
    "\n",
    "# Annotate the dataset\n",
    "annotated_dataset = add_annotations(dataset['train'])  # Adjust according to your split\n",
    "\n",
    "# Convert to Pandas DataFrame and save to CSV\n",
    "df = pd.DataFrame(annotated_dataset)\n",
    "df.to_csv('annotated_reviews.csv', index=False)\n"
   ]
  },
  {
   "cell_type": "markdown",
   "id": "60d214c7-8195-4ad1-a232-5649457bc62f",
   "metadata": {},
   "source": [
    "## Tokenization"
   ]
  },
  {
   "cell_type": "code",
   "execution_count": 11,
   "id": "5a624bd8-020b-45e9-af22-78363fe32c7e",
   "metadata": {},
   "outputs": [
    {
     "name": "stderr",
     "output_type": "stream",
     "text": [
      "[nltk_data] Downloading package punkt_tab to\n",
      "[nltk_data]     C:\\Users\\angel\\AppData\\Roaming\\nltk_data...\n",
      "[nltk_data]   Package punkt_tab is already up-to-date!\n"
     ]
    },
    {
     "data": {
      "text/plain": [
       "True"
      ]
     },
     "execution_count": 11,
     "metadata": {},
     "output_type": "execute_result"
    }
   ],
   "source": [
    "#USING NLTK TOKENIZATION\n",
    "import nltk\n",
    "nltk.download('punkt_tab')"
   ]
  },
  {
   "cell_type": "code",
   "execution_count": 12,
   "id": "0332e332-5df7-4815-8b15-c893326ababb",
   "metadata": {},
   "outputs": [],
   "source": [
    "import pandas as pd\n",
    "from nltk.tokenize import word_tokenize\n",
    "\n",
    "# Load your annotated dataset\n",
    "df = pd.read_csv('annotated_reviews.csv')\n",
    "\n",
    "# Function to tokenize text\n",
    "def tokenize_text(text):\n",
    "    return word_tokenize(text)\n",
    "\n",
    "# Apply tokenization\n",
    "df['tokens'] = df['Review'].apply(tokenize_text)\n",
    "\n",
    "# Save the tokenized data\n",
    "df.to_csv('tokenized_reviews.csv', index=False)\n"
   ]
  },
  {
   "cell_type": "markdown",
   "id": "bd364ed5-adb2-4408-993c-0b02c52ec100",
   "metadata": {},
   "source": [
    "##  Stop-word removal,stemming/lemmatization, and lowercasing,Handle hashtags"
   ]
  },
  {
   "cell_type": "code",
   "execution_count": 13,
   "id": "56a2c857-d3af-4379-b501-20696ba81389",
   "metadata": {},
   "outputs": [
    {
     "name": "stderr",
     "output_type": "stream",
     "text": [
      "[nltk_data] Downloading package stopwords to\n",
      "[nltk_data]     C:\\Users\\angel\\AppData\\Roaming\\nltk_data...\n",
      "[nltk_data]   Package stopwords is already up-to-date!\n",
      "[nltk_data] Downloading package punkt to\n",
      "[nltk_data]     C:\\Users\\angel\\AppData\\Roaming\\nltk_data...\n",
      "[nltk_data]   Package punkt is already up-to-date!\n",
      "[nltk_data] Downloading package wordnet to\n",
      "[nltk_data]     C:\\Users\\angel\\AppData\\Roaming\\nltk_data...\n",
      "[nltk_data]   Package wordnet is already up-to-date!\n"
     ]
    }
   ],
   "source": [
    "\n",
    "\n",
    "# Download required NLTK resources\n",
    "nltk.download('stopwords')\n",
    "nltk.download('punkt')  # Ensure you have the tokenizer models\n",
    "nltk.download('wordnet')\n",
    "\n",
    "# Initialize NLTK tools\n",
    "stop_words = set(stopwords.words('english'))\n",
    "stemmer = PorterStemmer()\n",
    "lemmatizer = WordNetLemmatizer()\n",
    "\n",
    "# Function to handle hashtags\n",
    "def handle_hashtags(text):\n",
    "    # Extract words from hashtags\n",
    "    hashtags = re.findall(r'#(\\w+)', text)\n",
    "    # Remove hashtags from the text\n",
    "    text = re.sub(r'#\\w+', '', text)\n",
    "    return text, hashtags\n",
    "\n",
    "# Function to preprocess text\n",
    "def preprocess_text(text, use_stemming=True):\n",
    "    # Handle hashtags\n",
    "    text, hashtags = handle_hashtags(text)\n",
    "    \n",
    "    # Tokenize\n",
    "    tokens = nltk.word_tokenize(text)\n",
    "    \n",
    "    # Convert to lowercase\n",
    "    tokens = [word.lower() for word in tokens]\n",
    "    \n",
    "    # Remove stop-words\n",
    "    tokens = [word for word in tokens if word not in stop_words]\n",
    "    \n",
    "    # Apply stemming or lemmatization\n",
    "    if use_stemming:\n",
    "        tokens = [stemmer.stem(word) for word in tokens]\n",
    "    else:\n",
    "        tokens = [lemmatizer.lemmatize(word) for word in tokens]\n",
    "    \n",
    "    # Optionally, re-integrate hashtags into the processed text\n",
    "    # For this example, hashtags are joined and added to the end of the processed text\n",
    "    processed_text = ' '.join(tokens) + ' ' + ' '.join(hashtags)\n",
    "    \n",
    "    return processed_text\n",
    "\n",
    "# Load your dataset\n",
    "df = pd.read_csv('annotated_reviews.csv')\n",
    "\n",
    "# Apply preprocessing\n",
    "df['processed_review'] = df['Review'].apply(lambda x: preprocess_text(x, use_stemming=True))\n",
    "\n",
    "# Save the processed data\n",
    "df.to_csv('processed_reviews.csv', index=False)\n"
   ]
  }
 ],
 "metadata": {
  "kernelspec": {
   "display_name": "Python 3 (ipykernel)",
   "language": "python",
   "name": "python3"
  },
  "language_info": {
   "codemirror_mode": {
    "name": "ipython",
    "version": 3
   },
   "file_extension": ".py",
   "mimetype": "text/x-python",
   "name": "python",
   "nbconvert_exporter": "python",
   "pygments_lexer": "ipython3",
   "version": "3.12.3"
  }
 },
 "nbformat": 4,
 "nbformat_minor": 5
}
